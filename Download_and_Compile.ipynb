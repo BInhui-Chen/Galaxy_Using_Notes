{
 "cells": [
  {
   "cell_type": "markdown",
   "metadata": {},
   "source": [
    "This is the process of \n",
    "\n",
    "(1) download and compile the GALAXY code on the Gravity\n",
    "\n",
    "(2) the process to run a simulation (Take Sellwood & Gerhad 2020 Model A as examples)"
   ]
  },
  {
   "cell_type": "markdown",
   "metadata": {},
   "source": [
    "# 1.Download Section"
   ]
  },
  {
   "cell_type": "markdown",
   "metadata": {},
   "source": [
    "1. Just go to the website http://www.physics.rutgers.edu/galaxy/\n",
    "\n",
    "2. Enter your email (for notification of the version update only)\n",
    "\n",
    "3. Click the download, waiting for a moment, the compressed file, galaxy.tar or .tzp, of the bundle files construct the GALAXY will download to your computer.\n",
    "\n",
    "RK: the download file is tiny, only a few Mbs. "
   ]
  },
  {
   "cell_type": "markdown",
   "metadata": {},
   "source": [
    "# 2.Compile Section"
   ]
  },
  {
   "cell_type": "markdown",
   "metadata": {},
   "source": [
    "1. Decompressed the galaxy.tar(tgz): change to the directory of the galaxy.tar file (on Gravity using terminal, the Jupyter Lab doesn't work!)\n",
    "\n",
    "2. Command: tar xvf galaxy.tar OR tar xzf galaxy.tgz (opitional: rm the .tar file), then there will be a GALAXY15 folder in the same directory\n",
    "\n",
    "3. Command: module load mpi/openmpi-3.1.1, load the mpi module for the mpi usage of GALAXY\n",
    "\n",
    "4. Command: cd GALAXY15/SRC/lib15\n",
    "\n",
    "5. Command: ./rebuild\n",
    "\n",
    "6. Command: cd ../RAJ\n",
    "\n",
    "7. Command: ./rebuild\n",
    "\n",
    "8. Command: cd ../utils\n",
    "\n",
    "9. Command: ./rebuild\n",
    "\n",
    "10. Command: cd ../lib15_mpi\n",
    "\n",
    "11. Command: ./rebuild\n",
    "\n",
    "12. Command: cd ../progs\n",
    "\n",
    "13. edit the PATH of the PGPLOT object library in the Makefile (in the progs directory): change the line begin with \"pgplot_lib = \"(line 9), replace the later words in the line by the correct PATH\n",
    "\n",
    "14. edit the same Makefile line that begins with \"sys_lib = \", replate later words in the line by -lgfortran -L/usr/X11R6/lib64 -L/usr/lib64 -lX11 -lpng\n",
    "\n",
    "15. Command: cd ../progs_mpi, repeat the same operations as step. 13 & 14\n",
    "\n",
    "16. Command: make\n",
    "\n",
    "17. Command: make clean\n",
    "\n",
    "You have done it!😁😁😁"
   ]
  }
 ],
 "metadata": {
  "kernelspec": {
   "display_name": "Python 3",
   "language": "python",
   "name": "python3"
  },
  "language_info": {
   "codemirror_mode": {
    "name": "ipython",
    "version": 3
   },
   "file_extension": ".py",
   "mimetype": "text/x-python",
   "name": "python",
   "nbconvert_exporter": "python",
   "pygments_lexer": "ipython3",
   "version": "3.8.5"
  }
 },
 "nbformat": 4,
 "nbformat_minor": 4
}
